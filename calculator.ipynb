{
 "cells": [
  {
   "cell_type": "code",
   "execution_count": 1,
   "id": "dfea61a1",
   "metadata": {},
   "outputs": [
    {
     "name": "stdout",
     "output_type": "stream",
     "text": [
      "Choose your Operation\n",
      "1.Addition\n",
      "2.Subtraction\n",
      "3.Multiplication\n",
      "4.Division\n",
      "Select your option:1\n",
      "Enter the first number:5\n",
      "Enter the second number:2\n",
      "Addition:7.00\n"
     ]
    }
   ],
   "source": [
    "print(\"Choose your Operation\")\n",
    "print(\"1.Addition\")\n",
    "print(\"2.Subtraction\")\n",
    "print(\"3.Multiplication\")\n",
    "print(\"4.Division\")\n",
    "option=int(input(\"Select your option:\"))\n",
    "a=int(input(\"Enter the first number:\"))\n",
    "b=int(input(\"Enter the second number:\"))\n",
    "if(option==1):\n",
    "        print(\"Addition:%.2f\"%(a+b))\n",
    "elif(option==2):\n",
    "    print(\"Subtraction:%.2f\"%(a-b))\n",
    "elif(option==3):\n",
    "    print(\"Multiplication:%.2f\"%(a*b))\n",
    "elif(option==4):\n",
    "    if(b!=0):\n",
    "        print(\"Division:%.2f\"%(a/b))\n",
    "    else:\n",
    "        print(\"Not divisible\")\n",
    "else:\n",
    "    print(\"Invalid Option\")"
   ]
  },
  {
   "cell_type": "code",
   "execution_count": null,
   "id": "2b9a3dba",
   "metadata": {},
   "outputs": [],
   "source": []
  },
  {
   "cell_type": "code",
   "execution_count": null,
   "id": "c4368d0b",
   "metadata": {},
   "outputs": [],
   "source": []
  }
 ],
 "metadata": {
  "kernelspec": {
   "display_name": "Python 3 (ipykernel)",
   "language": "python",
   "name": "python3"
  },
  "language_info": {
   "codemirror_mode": {
    "name": "ipython",
    "version": 3
   },
   "file_extension": ".py",
   "mimetype": "text/x-python",
   "name": "python",
   "nbconvert_exporter": "python",
   "pygments_lexer": "ipython3",
   "version": "3.10.12"
  }
 },
 "nbformat": 4,
 "nbformat_minor": 5
}
